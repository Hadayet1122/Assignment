{
 "cells": [
  {
   "cell_type": "code",
   "execution_count": 1,
   "id": "fa447937-1a4f-4283-88a0-8a12b8492362",
   "metadata": {},
   "outputs": [
    {
     "name": "stdout",
     "output_type": "stream",
     "text": [
      "Hello\n"
     ]
    }
   ],
   "source": [
    "print(\"Hello\")"
   ]
  },
  {
   "cell_type": "code",
   "execution_count": null,
   "id": "eeff8ee4-2978-4d37-a3ab-8f036619e4be",
   "metadata": {},
   "outputs": [],
   "source": [
    "print(\"Total\"\n",
    "      "
   ]
  },
  {
   "cell_type": "code",
   "execution_count": null,
   "id": "dca4bee6-fb12-46e6-b417-9ab931310c35",
   "metadata": {},
   "outputs": [],
   "source": [
    "print(\"Hello\")"
   ]
  },
  {
   "cell_type": "code",
   "execution_count": null,
   "id": "5a08afc9-1e4a-475f-bdda-4427c79ed411",
   "metadata": {},
   "outputs": [],
   "source": [
    "print(\"Hello world\")"
   ]
  },
  {
   "cell_type": "code",
   "execution_count": null,
   "id": "f234821c-a6c5-49b8-91ed-395ccb4e8ad2",
   "metadata": {},
   "outputs": [],
   "source": [
    "print(\"I love "
   ]
  },
  {
   "cell_type": "code",
   "execution_count": null,
   "id": "b429eb14-0067-4744-b2c5-6dc4483048e6",
   "metadata": {},
   "outputs": [],
   "source": []
  }
 ],
 "metadata": {
  "kernelspec": {
   "display_name": "Python [conda env:base] *",
   "language": "python",
   "name": "conda-base-py"
  },
  "language_info": {
   "codemirror_mode": {
    "name": "ipython",
    "version": 3
   },
   "file_extension": ".py",
   "mimetype": "text/x-python",
   "name": "python",
   "nbconvert_exporter": "python",
   "pygments_lexer": "ipython3",
   "version": "3.12.7"
  }
 },
 "nbformat": 4,
 "nbformat_minor": 5
}
