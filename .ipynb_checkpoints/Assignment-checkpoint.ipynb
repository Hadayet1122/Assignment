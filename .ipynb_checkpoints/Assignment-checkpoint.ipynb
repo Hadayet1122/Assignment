{
 "cells": [
  {
   "cell_type": "markdown",
   "id": "0eabdc3b-6214-4aee-8464-d40b967cd1ec",
   "metadata": {},
   "source": [
    "# Assignment 01\n",
    "## Python practice problem"
   ]
  },
  {
   "cell_type": "markdown",
   "id": "84aa86d2-c6cd-45f9-9be1-259e1645007a",
   "metadata": {},
   "source": [
    "# Find the largest of two numbers"
   ]
  },
  {
   "cell_type": "code",
   "execution_count": 1,
   "id": "a488a882-a7da-448f-9e0b-6e00bb2d1de3",
   "metadata": {},
   "outputs": [
    {
     "name": "stdin",
     "output_type": "stream",
     "text": [
      "Enter first number: 10\n",
      "Enter second number: 20\n"
     ]
    },
    {
     "name": "stdout",
     "output_type": "stream",
     "text": [
      "Largest number is 20\n"
     ]
    }
   ],
   "source": [
    "num1=int(input(\"Enter first number:\"))\n",
    "num2=int(input(\"Enter second number:\"))\n",
    "\n",
    "if num1>num2:\n",
    "    print(f\"Largest number is {num1}\")\n",
    "else:\n",
    "    print(f\"Largest number is {num2}\")"
   ]
  },
  {
   "cell_type": "markdown",
   "id": "a3e64db2-fab2-4172-b3dd-ce36544033ee",
   "metadata": {},
   "source": [
    "# Print numbers 1 to N"
   ]
  },
  {
   "cell_type": "code",
   "execution_count": 29,
   "id": "f23256f2-7faf-4395-90bb-52c2e5f5b0f9",
   "metadata": {},
   "outputs": [
    {
     "name": "stdin",
     "output_type": "stream",
     "text": [
      " 5\n"
     ]
    },
    {
     "name": "stdout",
     "output_type": "stream",
     "text": [
      "1\n",
      "2\n",
      "3\n",
      "4\n",
      "5\n"
     ]
    }
   ],
   "source": [
    "n=int(input())\n",
    "\n",
    "i=1\n",
    "\n",
    "while(i<=n):\n",
    "    print(i)\n",
    "    i=i+1\n"
   ]
  },
  {
   "cell_type": "markdown",
   "id": "be1a7256-87a9-403f-add1-2009bee386c1",
   "metadata": {},
   "source": [
    "# Check a number is positive or negative"
   ]
  },
  {
   "cell_type": "code",
   "execution_count": 39,
   "id": "548d5e5b-b592-402e-94f1-493ea5cf369c",
   "metadata": {},
   "outputs": [
    {
     "name": "stdin",
     "output_type": "stream",
     "text": [
      "Enter your number: 9\n"
     ]
    },
    {
     "name": "stdout",
     "output_type": "stream",
     "text": [
      "9 is a negative number\n"
     ]
    }
   ],
   "source": [
    "number=int(input(\"Enter your number:\"))\n",
    "\n",
    "if number%2==0:\n",
    "           print(f\"{number} is a positive number\")\n",
    "else:\n",
    "    print(f\"{number} is a negative number\")"
   ]
  },
  {
   "cell_type": "markdown",
   "id": "a3e941e0-eae6-47a2-b4bb-66c2d06b3c88",
   "metadata": {},
   "source": [
    "# Calculate the sum of digit"
   ]
  },
  {
   "cell_type": "code",
   "execution_count": 72,
   "id": "f0844489-bacb-4ab0-b536-d5adfbdcd0ed",
   "metadata": {},
   "outputs": [
    {
     "name": "stdin",
     "output_type": "stream",
     "text": [
      "Enter your digit: 789\n"
     ]
    },
    {
     "name": "stdout",
     "output_type": "stream",
     "text": [
      "26\n"
     ]
    }
   ],
   "source": [
    "digit=int(input(\"Enter your digit:\"))\n",
    "\n",
    "temp=digit\n",
    "sum=0\n",
    "\n",
    "while(temp !=0):\n",
    "    store=temp%10\n",
    "    sum=sum+store\n",
    "    temp=temp/10\n",
    "print(int(sum))\n",
    "    "
   ]
  },
  {
   "cell_type": "markdown",
   "id": "84406da3-9b6a-4997-969e-a81b033900a8",
   "metadata": {},
   "source": [
    "# Find factorial of a number"
   ]
  },
  {
   "cell_type": "code",
   "execution_count": 79,
   "id": "f14b6652-5a5b-4227-967a-cab8ad304b11",
   "metadata": {},
   "outputs": [
    {
     "name": "stdin",
     "output_type": "stream",
     "text": [
      "Enter your number: 4\n"
     ]
    },
    {
     "name": "stdout",
     "output_type": "stream",
     "text": [
      "24\n"
     ]
    }
   ],
   "source": [
    "Number=int(input(\"Enter your number:\"))\n",
    "\n",
    "fact=1\n",
    "while (Number!=1):\n",
    "    fact=fact*Number\n",
    "    Number=Number-1\n",
    "print(fact)"
   ]
  },
  {
   "cell_type": "markdown",
   "id": "cd4c4646-4528-4aa3-97d2-4a7300845b48",
   "metadata": {},
   "source": [
    "# Count occurrences of a digit"
   ]
  },
  {
   "cell_type": "code",
   "execution_count": 86,
   "id": "f755eb70-79a0-4280-acc1-963ba2ab7a4b",
   "metadata": {},
   "outputs": [
    {
     "name": "stdin",
     "output_type": "stream",
     "text": [
      "Enter your number: 1233321\n",
      " 3\n"
     ]
    },
    {
     "name": "stdout",
     "output_type": "stream",
     "text": [
      "3\n"
     ]
    }
   ],
   "source": [
    "number1=int(input(\"Enter your number:\"))\n",
    "count_number=int(input())\n",
    "\n",
    "temp=number1\n",
    "count=0\n",
    "\n",
    "while (temp !=0):\n",
    "    store=temp%10\n",
    "    if store==count_number:\n",
    "        count=count+1\n",
    "    temp=temp//10\n",
    "\n",
    "print(count)\n"
   ]
  },
  {
   "cell_type": "markdown",
   "id": "d661675e-c5fb-45e5-9b75-8d86580477ec",
   "metadata": {},
   "source": [
    "# Find GCD of two numbers"
   ]
  },
  {
   "cell_type": "code",
   "execution_count": 4,
   "id": "c306745f-4111-4186-9ddf-6f3fdc5f3133",
   "metadata": {},
   "outputs": [
    {
     "name": "stdin",
     "output_type": "stream",
     "text": [
      " 8\n",
      " 12\n"
     ]
    },
    {
     "name": "stdout",
     "output_type": "stream",
     "text": [
      "4\n"
     ]
    }
   ],
   "source": [
    "num1=int(input())\n",
    "num2=int(input())\n",
    "\n",
    "while (num2 !=0):\n",
    "         rem=num1%num2\n",
    "         num1=num2\n",
    "         num2=rem\n",
    "print(num1)\n"
   ]
  },
  {
   "cell_type": "markdown",
   "id": "f3a22333-376b-4a70-b78f-45896ee95d71",
   "metadata": {},
   "source": [
    "# Reverse of a string"
   ]
  },
  {
   "cell_type": "code",
   "execution_count": 5,
   "id": "101dba58-1c54-40f4-a09f-7e2fe32830e9",
   "metadata": {},
   "outputs": [
    {
     "name": "stdin",
     "output_type": "stream",
     "text": [
      "Enter your name: Al Mamun\n"
     ]
    },
    {
     "name": "stdout",
     "output_type": "stream",
     "text": [
      "numaM lA\n"
     ]
    }
   ],
   "source": [
    "name=str(input(\"Enter your name:\"))\n",
    "\n",
    "print(name[::-1])"
   ]
  },
  {
   "cell_type": "markdown",
   "id": "201a21d3-5b8c-4c36-a39e-3d9f3c3735fb",
   "metadata": {},
   "source": [
    "# Check Armstrong number"
   ]
  },
  {
   "cell_type": "code",
   "execution_count": 7,
   "id": "90a0839c-f19b-4c9f-8c4a-bb87070b18b4",
   "metadata": {},
   "outputs": [
    {
     "name": "stdin",
     "output_type": "stream",
     "text": [
      " 153\n"
     ]
    },
    {
     "name": "stdout",
     "output_type": "stream",
     "text": [
      "153 is an armstrong number\n"
     ]
    }
   ],
   "source": [
    "number=int(input())\n",
    "\n",
    "temp=number\n",
    "Sum=0\n",
    "\n",
    "while (temp!=0):\n",
    "    rem=temp%10\n",
    "    Sum=Sum+rem**3\n",
    "    temp=temp//10\n",
    "if Sum==number:\n",
    "    print(f\"{number} is an armstrong number\")\n",
    "    "
   ]
  },
  {
   "cell_type": "markdown",
   "id": "f425bf71-0279-42be-a8b2-658d06409727",
   "metadata": {},
   "source": [
    "# Print a pattern"
   ]
  },
  {
   "cell_type": "code",
   "execution_count": 8,
   "id": "ff582157-939a-4a27-94a5-87597bf6fe7d",
   "metadata": {},
   "outputs": [
    {
     "name": "stdin",
     "output_type": "stream",
     "text": [
      " 4\n"
     ]
    },
    {
     "name": "stdout",
     "output_type": "stream",
     "text": [
      "      * \n",
      "    * * * \n",
      "  * * * * * \n",
      "* * * * * * * \n"
     ]
    }
   ],
   "source": [
    "rows=int(input())\n",
    "\n",
    "for i in range(rows):\n",
    "    for j in range(rows - i - 1):\n",
    "        print(\" \", end=\" \")\n",
    "    for k in range(2 * i + 1):\n",
    "        print(\"*\", end=\" \")\n",
    "    print()\n"
   ]
  },
  {
   "cell_type": "code",
   "execution_count": null,
   "id": "93c29760-148a-4191-b5f5-c83b484c9d3d",
   "metadata": {},
   "outputs": [],
   "source": []
  }
 ],
 "metadata": {
  "kernelspec": {
   "display_name": "Python 3 (ipykernel)",
   "language": "python",
   "name": "python3"
  },
  "language_info": {
   "codemirror_mode": {
    "name": "ipython",
    "version": 3
   },
   "file_extension": ".py",
   "mimetype": "text/x-python",
   "name": "python",
   "nbconvert_exporter": "python",
   "pygments_lexer": "ipython3",
   "version": "3.12.7"
  }
 },
 "nbformat": 4,
 "nbformat_minor": 5
}
